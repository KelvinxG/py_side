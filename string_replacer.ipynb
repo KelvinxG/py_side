{
  "nbformat": 4,
  "nbformat_minor": 0,
  "metadata": {
    "colab": {
      "name": "string replacer.ipynb",
      "provenance": [],
      "authorship_tag": "ABX9TyOM5CoSMqGasWdVIXhFmyQ/",
      "include_colab_link": true
    },
    "kernelspec": {
      "name": "python3",
      "display_name": "Python 3"
    }
  },
  "cells": [
    {
      "cell_type": "markdown",
      "metadata": {
        "id": "view-in-github",
        "colab_type": "text"
      },
      "source": [
        "<a href=\"https://colab.research.google.com/github/KelvinxG/py_side/blob/main/string_replacer.ipynb\" target=\"_parent\"><img src=\"https://colab.research.google.com/assets/colab-badge.svg\" alt=\"Open In Colab\"/></a>"
      ]
    },
    {
      "cell_type": "code",
      "metadata": {
        "id": "6yT8uJFVvPDF",
        "outputId": "f5e8f143-3187-4ca2-af57-faee96563ba1",
        "colab": {
          "base_uri": "https://localhost:8080/"
        }
      },
      "source": [
        "#replace spaces into - \n",
        "\n",
        "words=\"if you connect the dots the chaos may disappear\"\n",
        "\n",
        "\n",
        "print(words.replace(\" \",\"-\"))\n"
      ],
      "execution_count": 9,
      "outputs": [
        {
          "output_type": "stream",
          "text": [
            "if-you-connect-the-dots-the-chaos-may-disappear\n"
          ],
          "name": "stdout"
        }
      ]
    }
  ]
}